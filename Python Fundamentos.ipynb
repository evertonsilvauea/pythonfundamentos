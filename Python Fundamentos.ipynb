{
 "cells": [
  {
   "cell_type": "code",
   "execution_count": 10,
   "metadata": {},
   "outputs": [
    {
     "name": "stdout",
     "output_type": "stream",
     "text": [
      "Váriável nome é do tipo: <class 'str'>\n",
      "Váriável idade é do tipo: <class 'int'>\n",
      "Váriável idade é do tipo: <class 'float'>\n",
      "Váriável idade é do tipo: <class 'str'>\n"
     ]
    }
   ],
   "source": [
    "#Variáveis\n",
    "\n",
    "nome = 'Paulo'\n",
    "idade = 25\n",
    "altura = 1.73\n",
    "inicial = 'p'\n",
    "\n",
    "print(f'Váriável nome é do tipo: {type(nome)}')\n",
    "print(f'Váriável idade é do tipo: {type(idade)}')\n",
    "print(f'Váriável idade é do tipo: {type(altura)}')\n",
    "print(f'Váriável idade é do tipo: {type(inicial)}')\n"
   ]
  },
  {
   "cell_type": "code",
   "execution_count": 11,
   "metadata": {},
   "outputs": [
    {
     "data": {
      "text/plain": [
       "'\\nEste também é um bloco de Comentários\\nque pode conter varias linhas\\n'"
      ]
     },
     "execution_count": 11,
     "metadata": {},
     "output_type": "execute_result"
    }
   ],
   "source": [
    "#Comentários\n",
    "\n",
    "#Este é um comentário\n",
    "\n",
    "'''\n",
    "Este é um bloco de Comentários\n",
    "que pode conter varias linhas\n",
    "'''\n",
    "\n",
    "\"\"\"\n",
    "Este também é um bloco de Comentários\n",
    "que pode conter varias linhas\n",
    "\"\"\""
   ]
  },
  {
   "cell_type": "code",
   "execution_count": 12,
   "metadata": {},
   "outputs": [
    {
     "name": "stdout",
     "output_type": "stream",
     "text": [
      "Digite seu nome: Paulo Correa\n",
      "Digite sua idade: 25\n",
      "Digite sua altura: 1.75\n",
      "Digite seu peso: 75.78548\n"
     ]
    }
   ],
   "source": [
    "#Entrada e Saída de dados\n",
    "\n",
    "#Entrada de Dados\n",
    "\n",
    "nome = input('Digite seu nome: ')\n",
    "nome = str(nome)\n",
    "idade = input('Digite sua idade: ')\n",
    "idade = int(idade)\n",
    "altura = input('Digite sua altura: ')\n",
    "altura = float(altura)\n",
    "peso = input('Digite seu peso: ')\n",
    "peso = float(peso)\n"
   ]
  },
  {
   "cell_type": "code",
   "execution_count": 13,
   "metadata": {},
   "outputs": [
    {
     "name": "stdout",
     "output_type": "stream",
     "text": [
      "Seu nome é  Paulo Correa\n",
      "Você tem 25 anos\n",
      "Você tem 1.75 de Altura\n",
      "Você pesa 75.79 quilos\n"
     ]
    }
   ],
   "source": [
    "#Saída de Dados\n",
    "\n",
    "print('Seu nome é ', nome)\n",
    "print(f'Você tem {idade} anos')\n",
    "print('Você tem %.2f de Altura'%altura )\n",
    "print('Você pesa %.2f quilos'%peso)"
   ]
  },
  {
   "cell_type": "code",
   "execution_count": 14,
   "metadata": {},
   "outputs": [
    {
     "name": "stdout",
     "output_type": "stream",
     "text": [
      "Reprovado\n"
     ]
    }
   ],
   "source": [
    "#Estrutrua Condicional \"If\"\n",
    "nota1 = 7\n",
    "nota2 = 8\n",
    "nota3 = 5\n",
    "media = (nota1+nota2+nota3)/3\n",
    "\n",
    "if media >= 7:\n",
    "    print('Aprovado')\n",
    "else:\n",
    "    print('Reprovado')"
   ]
  },
  {
   "cell_type": "code",
   "execution_count": 15,
   "metadata": {},
   "outputs": [
    {
     "name": "stdout",
     "output_type": "stream",
     "text": [
      "Arrastado mas passou\n"
     ]
    }
   ],
   "source": [
    "#Estrutrua Condicional \"If\"\n",
    "nota1 = 7\n",
    "nota2 = 7\n",
    "nota3 = 7\n",
    "media = (nota1+nota2+nota3)/3\n",
    "\n",
    "if media > 7:\n",
    "    print('Aprovado')\n",
    "elif media == 7:\n",
    "    print('Arrastado mas passou')\n",
    "else:\n",
    "    print('Reprovado')"
   ]
  },
  {
   "cell_type": "code",
   "execution_count": 16,
   "metadata": {},
   "outputs": [
    {
     "name": "stdout",
     "output_type": "stream",
     "text": [
      "[7, 8, 5, 8, 9, 4, 7, 8, 10, 7, 6]\n",
      "4\n",
      "('Turma A', 'Turma B', 'Turma C')\n",
      "Turma B\n",
      "{'nome': 'Paulo Correa', 'idade': 25}\n",
      "Paulo Correa\n"
     ]
    }
   ],
   "source": [
    "#Tipos de Dados\n",
    "#Listas\n",
    "notas = [7,8,5,8,9,4,7,8,10,7,6] #mutável\n",
    "\n",
    "nome = 'Paulo Correa' #imutável\n",
    "\n",
    "#Tuplas\n",
    "turmas = ('Turma A', 'Turma B', 'Turma C') #imutável\n",
    "\n",
    "#Dicionários\n",
    "aluno = {'nome':'Paulo Correa', 'idade':25} #mutável\n",
    "\n",
    "print(notas)\n",
    "print(notas[5])\n",
    "print(turmas)\n",
    "print(turmas[1])\n",
    "print(aluno)\n",
    "print(aluno['nome'])"
   ]
  },
  {
   "cell_type": "code",
   "execution_count": 17,
   "metadata": {},
   "outputs": [
    {
     "name": "stdout",
     "output_type": "stream",
     "text": [
      "7.181818181818182\n",
      "7.18\n",
      "\n",
      "\n",
      "[7, 8, 5, 8, 9]\n",
      "[4, 7, 8, 10, 7, 6]\n",
      "[4, 7, 8, 10]\n",
      "[7, 5, 9, 7, 10, 6]\n",
      "[6, 7, 10, 8, 7, 4, 9, 8, 5, 8, 7]\n",
      "[6, 10, 7, 9, 5, 7]\n",
      "\n",
      "\n",
      "Paulo\n",
      " Correa\n",
      " Corr\n",
      "PuoCre\n",
      "aerroC oluaP\n",
      "aro la\n"
     ]
    }
   ],
   "source": [
    "import numpy as np\n",
    "\n",
    "print(np.mean(notas))\n",
    "print(round(np.mean(notas),2))\n",
    "\n",
    "print('\\n')\n",
    "\n",
    "print(notas[:5])    #Até o quinto item\n",
    "print(notas[5:])    #Do quinto item ao final\n",
    "print(notas[5:-2])  #Do item indice 5 ao penultimo (antes)\n",
    "print(notas[::2])   #De dois em dois\n",
    "print(notas[::-1])  #De trás pra frente, um a um\n",
    "print(notas[::-2])  #De tras pra frente, de dois em dois\n",
    "\n",
    "print('\\n')\n",
    "\n",
    "print(nome[:5])    #Até o quinto item\n",
    "print(nome[5:])    #Do quinto item ao final\n",
    "print(nome[5:-2])  #Do item indice 5 ao penultimo (antes)\n",
    "print(nome[::2])   #De dois em dois\n",
    "print(nome[::-1])  #De trás pra frente, um a um\n",
    "print(nome[::-2])  #De tras pra frente, de dois em dois"
   ]
  },
  {
   "cell_type": "code",
   "execution_count": 18,
   "metadata": {},
   "outputs": [
    {
     "name": "stdout",
     "output_type": "stream",
     "text": [
      "2\n",
      "10\n"
     ]
    }
   ],
   "source": [
    "alunos = ['a','b','c','d','e','f','g','h','i','j']\n",
    "notas = [5,8,6,8,7,8,7,10,10,3]\n",
    "\n",
    "print(len(aluno))\n",
    "print(len(notas))"
   ]
  },
  {
   "cell_type": "code",
   "execution_count": 19,
   "metadata": {},
   "outputs": [
    {
     "name": "stdout",
     "output_type": "stream",
     "text": [
      "{('j', 3), ('b', 8), ('a', 5), ('c', 6), ('h', 10), ('i', 10), ('f', 8), ('g', 7), ('d', 8), ('e', 7)}\n"
     ]
    }
   ],
   "source": [
    "alunos_notas = zip(alunos,notas)\n",
    "alunos_notas = set(alunos_notas)\n",
    "print(alunos_notas)"
   ]
  },
  {
   "cell_type": "code",
   "execution_count": 20,
   "metadata": {},
   "outputs": [
    {
     "name": "stdout",
     "output_type": "stream",
     "text": [
      "a\n",
      "b\n",
      "c\n",
      "d\n",
      "e\n",
      "f\n",
      "g\n",
      "h\n",
      "i\n",
      "j\n"
     ]
    }
   ],
   "source": [
    "for aluno in alunos:\n",
    "    print(aluno)"
   ]
  },
  {
   "cell_type": "code",
   "execution_count": 21,
   "metadata": {},
   "outputs": [
    {
     "name": "stdout",
     "output_type": "stream",
     "text": [
      "O aluno a tirou 5\n",
      "O aluno b tirou 8\n",
      "O aluno c tirou 6\n",
      "O aluno d tirou 8\n",
      "O aluno e tirou 7\n",
      "O aluno f tirou 8\n",
      "O aluno g tirou 7\n",
      "O aluno h tirou 10\n",
      "O aluno i tirou 10\n",
      "O aluno j tirou 3\n"
     ]
    }
   ],
   "source": [
    "for aluno, nota in zip(alunos,notas):\n",
    "    print(f'O aluno {aluno} tirou {nota}')"
   ]
  },
  {
   "cell_type": "code",
   "execution_count": 22,
   "metadata": {},
   "outputs": [
    {
     "name": "stdout",
     "output_type": "stream",
     "text": [
      "Digite um valor inteiro: 5\n",
      "Digite um valor inteiro: 8\n",
      "Digite um valor inteiro: 9\n",
      "Digite um valor inteiro: 5\n",
      "Digite um valor inteiro: 0\n",
      "A média dos valores digitados é: 6.75\n"
     ]
    }
   ],
   "source": [
    "valor = 1\n",
    "acum = 0\n",
    "count = 0\n",
    "while valor != 0:\n",
    "    valor = int(input('Digite um valor inteiro: '))\n",
    "    count += 1\n",
    "    acum += int(valor)\n",
    "print(f'A média dos valores digitados é: {round(acum/(count-1),2)}')"
   ]
  },
  {
   "cell_type": "code",
   "execution_count": 70,
   "metadata": {},
   "outputs": [
    {
     "name": "stdout",
     "output_type": "stream",
     "text": [
      "Digite um valor inteiro: 0\n"
     ]
    },
    {
     "ename": "TypeError",
     "evalue": "unsupported operand type(s) for +=: 'int' and 'str'",
     "output_type": "error",
     "traceback": [
      "\u001b[0;31m---------------------------------------------------------------------------\u001b[0m",
      "\u001b[0;31mTypeError\u001b[0m                                 Traceback (most recent call last)",
      "\u001b[0;32m<ipython-input-70-256675545543>\u001b[0m in \u001b[0;36m<module>\u001b[0;34m\u001b[0m\n\u001b[1;32m      5\u001b[0m     \u001b[0mvalor\u001b[0m \u001b[0;34m=\u001b[0m \u001b[0minput\u001b[0m\u001b[0;34m(\u001b[0m\u001b[0;34m'Digite um valor inteiro: '\u001b[0m\u001b[0;34m)\u001b[0m\u001b[0;34m\u001b[0m\u001b[0;34m\u001b[0m\u001b[0m\n\u001b[1;32m      6\u001b[0m     \u001b[0mcount\u001b[0m \u001b[0;34m+=\u001b[0m \u001b[0;36m1\u001b[0m\u001b[0;34m\u001b[0m\u001b[0;34m\u001b[0m\u001b[0m\n\u001b[0;32m----> 7\u001b[0;31m     \u001b[0macum\u001b[0m \u001b[0;34m+=\u001b[0m \u001b[0mvalor\u001b[0m\u001b[0;34m\u001b[0m\u001b[0;34m\u001b[0m\u001b[0m\n\u001b[0m\u001b[1;32m      8\u001b[0m \u001b[0mprint\u001b[0m\u001b[0;34m(\u001b[0m\u001b[0;34mf'A média dos valores digitados é: {round(acum/(count-1),2)}'\u001b[0m\u001b[0;34m)\u001b[0m\u001b[0;34m\u001b[0m\u001b[0;34m\u001b[0m\u001b[0m\n",
      "\u001b[0;31mTypeError\u001b[0m: unsupported operand type(s) for +=: 'int' and 'str'"
     ]
    }
   ],
   "source": [
    "valor = 1\n",
    "acum = 0\n",
    "count = 0\n",
    "while valor != 0:\n",
    "    valor = input('Digite um valor inteiro: ')\n",
    "    count += 1\n",
    "    acum += valor\n",
    "print(f'A média dos valores digitados é: {round(acum/(count-1),2)}')"
   ]
  },
  {
   "cell_type": "code",
   "execution_count": 23,
   "metadata": {},
   "outputs": [],
   "source": [
    "def get_media_notas(list_):\n",
    "    media = 0\n",
    "    count = 0\n",
    "    for nota in list_:\n",
    "        media += nota\n",
    "        count = count + 1\n",
    "    return media/count"
   ]
  },
  {
   "cell_type": "code",
   "execution_count": 24,
   "metadata": {},
   "outputs": [
    {
     "data": {
      "text/plain": [
       "7.2"
      ]
     },
     "execution_count": 24,
     "metadata": {},
     "output_type": "execute_result"
    }
   ],
   "source": [
    "get_media_notas(notas)"
   ]
  },
  {
   "cell_type": "code",
   "execution_count": 25,
   "metadata": {},
   "outputs": [],
   "source": [
    "def get_media_nota(*item):\n",
    "    media = 0\n",
    "    count = 0\n",
    "    for nota in item:\n",
    "        media += nota\n",
    "        count = count + 1\n",
    "    return media/count"
   ]
  },
  {
   "cell_type": "code",
   "execution_count": 26,
   "metadata": {},
   "outputs": [
    {
     "data": {
      "text/plain": [
       "7.25"
      ]
     },
     "execution_count": 26,
     "metadata": {},
     "output_type": "execute_result"
    }
   ],
   "source": [
    "get_media_nota(6,7,8,8,8,8,8,5)"
   ]
  },
  {
   "cell_type": "code",
   "execution_count": 32,
   "metadata": {},
   "outputs": [
    {
     "name": "stdout",
     "output_type": "stream",
     "text": [
      "10\n",
      "3\n",
      "125\n",
      "<class 'list'>\n"
     ]
    }
   ],
   "source": [
    "#Funções Built-in\n",
    "\n",
    "print(max(notas))\n",
    "print(min(notas))\n",
    "print(pow(5,3))\n",
    "print(type(notas))\n",
    "\n"
   ]
  },
  {
   "cell_type": "code",
   "execution_count": 33,
   "metadata": {},
   "outputs": [
    {
     "name": "stdout",
     "output_type": "stream",
     "text": [
      "['__add__', '__class__', '__contains__', '__delattr__', '__delitem__', '__dir__', '__doc__', '__eq__', '__format__', '__ge__', '__getattribute__', '__getitem__', '__gt__', '__hash__', '__iadd__', '__imul__', '__init__', '__init_subclass__', '__iter__', '__le__', '__len__', '__lt__', '__mul__', '__ne__', '__new__', '__reduce__', '__reduce_ex__', '__repr__', '__reversed__', '__rmul__', '__setattr__', '__setitem__', '__sizeof__', '__str__', '__subclasshook__', 'append', 'clear', 'copy', 'count', 'extend', 'index', 'insert', 'pop', 'remove', 'reverse', 'sort']\n"
     ]
    }
   ],
   "source": [
    "print(dir(notas))"
   ]
  },
  {
   "cell_type": "code",
   "execution_count": 51,
   "metadata": {},
   "outputs": [
    {
     "name": "stdout",
     "output_type": "stream",
     "text": [
      "[7, 7, 7, 3, 5, 6, 7, 7, 8, 8, 8, 10]\n",
      "5\n",
      "11\n",
      "[7, 7, 7, 3, 5, 6, 7, 7, 8, 8, 8, 10]\n",
      "[7, 7, 7, 7, 3, 5, 6, 7, 7, 8, 8, 8, 10]\n",
      "[7, 7, 7, 7, 3, 5, 6, 7, 7, 8, 8, 8]\n"
     ]
    }
   ],
   "source": [
    "print(notas)\n",
    "print(notas.count(7))\n",
    "print(notas.index(10))\n",
    "print(notas)\n",
    "notas.insert(0,7)\n",
    "print(notas)\n",
    "notas.pop(-1)\n",
    "print(notas)\n",
    "#notas_sorted = notas.index(10)\n",
    "\n",
    "#print(notas_sorted)"
   ]
  },
  {
   "cell_type": "code",
   "execution_count": 3,
   "metadata": {},
   "outputs": [],
   "source": [
    "#Leitura e escrita de arquivos (JSON)\n",
    "import json\n",
    "\n",
    "dados = open('novo_arquivo.json', 'w')\n",
    "texto = \"{'nome':'Paulo Correa', 'idade':'25', 'altura':'1.75'}\"\n",
    "dados.write(texto)\n",
    "dados.close()\n"
   ]
  },
  {
   "cell_type": "code",
   "execution_count": 6,
   "metadata": {},
   "outputs": [
    {
     "name": "stdout",
     "output_type": "stream",
     "text": [
      "{'nome':'Paulo Correa', 'idade':'25', 'altura':'1.75'}\n",
      "\"{'nome':'Paulo Correa', 'idade':'25', 'altura':'1.75'}\"\n"
     ]
    }
   ],
   "source": [
    "dados = open('novo_arquivo.json', 'r')\n",
    "#texto = \"{'nome':'Paulo Correa', 'idade':'25', 'altura':'1.75'}\"\n",
    "info = dados.read()\n",
    "print(info)\n",
    "dict_ = json.dumps(info)\n",
    "print(dict_)\n",
    "dados.close()\n",
    "#print(dict_['nome'])"
   ]
  },
  {
   "cell_type": "code",
   "execution_count": null,
   "metadata": {},
   "outputs": [],
   "source": []
  },
  {
   "cell_type": "code",
   "execution_count": null,
   "metadata": {},
   "outputs": [],
   "source": []
  }
 ],
 "metadata": {
  "kernelspec": {
   "display_name": "Python 3",
   "language": "python",
   "name": "python3"
  },
  "language_info": {
   "codemirror_mode": {
    "name": "ipython",
    "version": 3
   },
   "file_extension": ".py",
   "mimetype": "text/x-python",
   "name": "python",
   "nbconvert_exporter": "python",
   "pygments_lexer": "ipython3",
   "version": "3.7.3"
  }
 },
 "nbformat": 4,
 "nbformat_minor": 2
}
