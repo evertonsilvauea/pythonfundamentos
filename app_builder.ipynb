{
  "nbformat": 4,
  "nbformat_minor": 0,
  "metadata": {
    "colab": {
      "name": "app_builder.ipynb",
      "provenance": [],
      "authorship_tag": "ABX9TyOcW0u6qJAfUSqmOQgc6bEt",
      "include_colab_link": true
    },
    "kernelspec": {
      "name": "python3",
      "display_name": "Python 3"
    }
  },
  "cells": [
    {
      "cell_type": "markdown",
      "metadata": {
        "id": "view-in-github",
        "colab_type": "text"
      },
      "source": [
        "<a href=\"https://colab.research.google.com/github/evertonsilvauea/pythonfundamentos/blob/main/app_builder.ipynb\" target=\"_parent\"><img src=\"https://colab.research.google.com/assets/colab-badge.svg\" alt=\"Open In Colab\"/></a>"
      ]
    },
    {
      "cell_type": "code",
      "metadata": {
        "id": "dXq_rFE-h4GB"
      },
      "source": [
        "from abc import ABC, abstractmethod, abstractproperty\n",
        "from typing import Any\n",
        "\n",
        "class Builder(ABC):\n",
        "    \"\"\"The Builder interface specifies methods for creating the different parts of the Product objects.\"\"\"\n",
        "    @abstractproperty\n",
        "    def product(self) -> None:\n",
        "        pass\n",
        "\n",
        "    @abstractmethod\n",
        "    def produce_part_a(self) -> None:\n",
        "        pass\n",
        "\n",
        "    @abstractmethod\n",
        "    def produce_part_b(self) -> None:\n",
        "        pass\n",
        "\n",
        "    @abstractmethod\n",
        "    def produce_part_c(self) -> None:\n",
        "        pass"
      ],
      "execution_count": null,
      "outputs": []
    }
  ]
}