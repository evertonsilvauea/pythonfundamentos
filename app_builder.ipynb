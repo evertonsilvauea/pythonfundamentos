{
  "nbformat": 4,
  "nbformat_minor": 0,
  "metadata": {
    "colab": {
      "name": "app_builder.ipynb",
      "provenance": [],
      "authorship_tag": "ABX9TyMNXBNd3aCJ0N2pXZIHQsmK",
      "include_colab_link": true
    },
    "kernelspec": {
      "name": "python3",
      "display_name": "Python 3"
    }
  },
  "cells": [
    {
      "cell_type": "markdown",
      "metadata": {
        "id": "view-in-github",
        "colab_type": "text"
      },
      "source": [
        "<a href=\"https://colab.research.google.com/github/evertonsilvauea/pythonfundamentos/blob/main/app_builder.ipynb\" target=\"_parent\"><img src=\"https://colab.research.google.com/assets/colab-badge.svg\" alt=\"Open In Colab\"/></a>"
      ]
    },
    {
      "cell_type": "code",
      "metadata": {
        "id": "dXq_rFE-h4GB"
      },
      "source": [
        "from abc import ABC, abstractmethod, abstractproperty\n",
        "from typing import Any\n",
        "\n",
        "class Builder(ABC):\n",
        "    \n",
        "    @abstractproperty\n",
        "    def product(self) -> None:\n",
        "        pass\n",
        "\n",
        "    @abstractmethod\n",
        "    def notas_alunos(self) -> None:\n",
        "        pass\n",
        "\n",
        "    @abstractmethod\n",
        "    def nome_alunos(self) -> None:\n",
        "        pass\n",
        "\n",
        "    @abstractmethod\n",
        "    def notas_ocorrencia(self) -> None:\n",
        "        pass"
      ],
      "execution_count": 94,
      "outputs": []
    },
    {
      "cell_type": "code",
      "metadata": {
        "id": "r2miBlx0iumA"
      },
      "source": [
        "class infor_students():\n",
        "    \n",
        "    def __init__(self) -> None:\n",
        "        self.parts = []\n",
        "\n",
        "    def add(self, part: Any) -> None:\n",
        "        self.parts.append(part)\n",
        "\n",
        "    def list_parts(self) -> None:\n",
        "        print(f\"Product parts: {', '.join(self.parts)}\", end=\"\")\n",
        "\n",
        "    def list_notes(self) -> None:\n",
        "        for x in self.parts:\n",
        "            print(x)"
      ],
      "execution_count": 95,
      "outputs": []
    },
    {
      "cell_type": "code",
      "metadata": {
        "id": "QE_sXWJ4ct-z"
      },
      "source": [
        "class ConcreteBuilder1(Builder):\n",
        "\n",
        "    def __init__(self) -> None:\n",
        "        #self._product = infor_students()\n",
        "        self.reset()\n",
        "\n",
        "    def reset(self) -> None:\n",
        "        self._product = infor_students()\n",
        "\n",
        "    @property\n",
        "    def product(self) -> infor_students:\n",
        "        product = self._product\n",
        "        self.reset()\n",
        "        return product\n",
        "\n",
        "    def notas_alunos(self) -> None:\n",
        "        notas = [5,8,6,8,7,8,7,10,10,3]\n",
        "        alunos = ['a','b','c','d','e','f','g','h','i','j']\n",
        "        for aluno, nota in zip(alunos,notas):\n",
        "            self._product.add(f'O aluno {aluno} tirou {nota}')\n",
        "\n",
        "    def nome_alunos(self) -> None:\n",
        "        alunos = ['a','b','c','d','e','f','g','h','i','j']\n",
        "        for i in alunos:\n",
        "            self._product.add(i)\n",
        "\n",
        "    def notas_ocorrencia(self) -> None:\n",
        "        notas = [5,8,6,8,7,8,7,10,10,3]\n",
        "        numero = 0\n",
        "        counter = 0\n",
        "        for x in notas:\n",
        "            qtd_vezes = notas.count(x)\n",
        "            if qtd_vezes > counter:\n",
        "                counter = qtd_vezes\n",
        "                numero = x\n",
        "        self._product.add(f'As notas que mais ocorreram: Nota {numero} com {counter} ocorrências')\n",
        "\n"
      ],
      "execution_count": 96,
      "outputs": []
    },
    {
      "cell_type": "code",
      "metadata": {
        "id": "1kRRkNOUct-0"
      },
      "source": [
        "class Director:\n",
        "\n",
        "    def __init__(self) -> None:\n",
        "        self._builder = None\n",
        "\n",
        "    @property\n",
        "    def builder(self) -> Builder:\n",
        "        return self._builder\n",
        "\n",
        "    @builder.setter\n",
        "    def builder(self, builder: Builder) -> None:\n",
        "        self._builder = builder\n",
        "\n",
        "    def build_minimal_viable_product(self) -> None:\n",
        "        self.builder.nome_alunos()\n",
        "\n",
        "    def build_full_featured_product(self) -> None:\n",
        "        self.builder.notas_alunos()\n",
        "        self.builder.nome_alunos()\n",
        "        self.builder.notas_ocorrencia()"
      ],
      "execution_count": 97,
      "outputs": []
    },
    {
      "cell_type": "code",
      "metadata": {
        "id": "ssP62pTzct-1",
        "colab": {
          "base_uri": "https://localhost:8080/"
        },
        "outputId": "4dbf16b6-387d-4fea-8220-45504bdab1bd"
      },
      "source": [
        "if __name__ == \"__main__\":\n",
        "\n",
        "    director = Director()\n",
        "    builder = ConcreteBuilder1()\n",
        "    director.builder = builder\n",
        "\n",
        "    print(\"Standard basic product: \")\n",
        "    director.build_minimal_viable_product()\n",
        "    builder.product.list_parts()\n",
        "\n",
        "    print(\"\\n\")\n",
        "\n",
        "    print(\"Standard full featured product: \")\n",
        "    director.build_full_featured_product()\n",
        "    builder.product.list_notes()\n",
        "\n",
        "    print(\"\\n\")\n",
        "\n",
        "    # Remember, the Builder pattern can be used without a Director class.\n",
        "    print(\"Custom product: \")\n",
        "    builder.notas_alunos()\n",
        "    builder.nome_alunos()\n",
        "    builder.product.list_notes()\n",
        "\n",
        "\n",
        "  "
      ],
      "execution_count": 98,
      "outputs": [
        {
          "output_type": "stream",
          "text": [
            "Standard basic product: \n",
            "Product parts: a, b, c, d, e, f, g, h, i, j\n",
            "\n",
            "Standard full featured product: \n",
            "O aluno a tirou 5\n",
            "O aluno b tirou 8\n",
            "O aluno c tirou 6\n",
            "O aluno d tirou 8\n",
            "O aluno e tirou 7\n",
            "O aluno f tirou 8\n",
            "O aluno g tirou 7\n",
            "O aluno h tirou 10\n",
            "O aluno i tirou 10\n",
            "O aluno j tirou 3\n",
            "a\n",
            "b\n",
            "c\n",
            "d\n",
            "e\n",
            "f\n",
            "g\n",
            "h\n",
            "i\n",
            "j\n",
            "As notas que mais ocorreram: Nota 8 com 3 ocorrências\n",
            "\n",
            "\n",
            "Custom product: \n",
            "O aluno a tirou 5\n",
            "O aluno b tirou 8\n",
            "O aluno c tirou 6\n",
            "O aluno d tirou 8\n",
            "O aluno e tirou 7\n",
            "O aluno f tirou 8\n",
            "O aluno g tirou 7\n",
            "O aluno h tirou 10\n",
            "O aluno i tirou 10\n",
            "O aluno j tirou 3\n",
            "a\n",
            "b\n",
            "c\n",
            "d\n",
            "e\n",
            "f\n",
            "g\n",
            "h\n",
            "i\n",
            "j\n"
          ],
          "name": "stdout"
        }
      ]
    },
    {
      "cell_type": "code",
      "metadata": {
        "id": "E0LP3npNjCGG"
      },
      "source": [
        ""
      ],
      "execution_count": null,
      "outputs": []
    }
  ]
}